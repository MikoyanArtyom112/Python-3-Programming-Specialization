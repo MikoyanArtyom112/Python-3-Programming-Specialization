{
 "cells": [
  {
   "cell_type": "markdown",
   "id": "852c57d2-95c7-47f6-9e03-6158302d3c36",
   "metadata": {},
   "source": [
    "# Module 1B\n",
    "## Way of The Programmer\n",
    " *By Miguel Faustine Aguinaldo* | *April 2025*"
   ]
  },
  {
   "cell_type": "markdown",
   "id": "7bff5917-e488-40c2-a1cf-3d755af48d57",
   "metadata": {},
   "source": [
    "---"
   ]
  },
  {
   "cell_type": "markdown",
   "id": "bc61546b-8e76-4142-8509-264ebe5b04fd",
   "metadata": {},
   "source": [
    "## Introduction - Debugging"
   ]
  },
  {
   "cell_type": "markdown",
   "id": "1e15e259-d2d0-43ad-bc8e-50a4ff7e3502",
   "metadata": {},
   "source": [
    "The following chapter contains habits and strategies when it comes to coding. Programs will not always work, we have to debug them. The process is investigatory and it is essential to distinguish different forms of errors: Syntax, Runtime, and Semantic. It is a proper habit and skill to always read and understand these errors and how to fix them."
   ]
  },
  {
   "cell_type": "markdown",
   "id": "552d0af7-38df-409b-88ee-8ac11392c8f8",
   "metadata": {},
   "source": [
    "## Syntax, Runtime, and Semantic Errors\r\n"
   ]
  },
  {
   "cell_type": "markdown",
   "id": "8b309dd1-cf7c-4912-aed7-6630ee02dbe4",
   "metadata": {},
   "source": [
    "Syntax error occur when our code is not well-formed and thus it is impossible for the interpreter to parse it."
   ]
  },
  {
   "cell_type": "code",
   "execution_count": 9,
   "id": "2587bbe9-d475-4a05-9b64-e8274d00f9b6",
   "metadata": {},
   "outputs": [
    {
     "ename": "SyntaxError",
     "evalue": "unterminated string literal (detected at line 1) (2488249045.py, line 1)",
     "output_type": "error",
     "traceback": [
      "\u001b[1;36m  Cell \u001b[1;32mIn[9], line 1\u001b[1;36m\u001b[0m\n\u001b[1;33m    print(\"hello world\u001b[0m\n\u001b[1;37m          ^\u001b[0m\n\u001b[1;31mSyntaxError\u001b[0m\u001b[1;31m:\u001b[0m unterminated string literal (detected at line 1)\n"
     ]
    }
   ],
   "source": [
    "print(\"hello world"
   ]
  },
  {
   "cell_type": "markdown",
   "id": "50b2aeea-92d3-43fc-a46c-c2319f47afca",
   "metadata": {},
   "source": [
    "Runtime error occurs when the interpreter is able to run the program but some illegal operations occur midway or at the end of the program."
   ]
  },
  {
   "cell_type": "code",
   "execution_count": 14,
   "id": "309b30b9-a640-4a6d-8cbf-67ef358b025e",
   "metadata": {},
   "outputs": [
    {
     "ename": "ZeroDivisionError",
     "evalue": "division by zero",
     "output_type": "error",
     "traceback": [
      "\u001b[1;31m---------------------------------------------------------------------------\u001b[0m",
      "\u001b[1;31mZeroDivisionError\u001b[0m                         Traceback (most recent call last)",
      "Cell \u001b[1;32mIn[14], line 1\u001b[0m\n\u001b[1;32m----> 1\u001b[0m \u001b[38;5;241;43m3\u001b[39;49m\u001b[38;5;241;43m/\u001b[39;49m\u001b[38;5;241;43m0\u001b[39;49m\n",
      "\u001b[1;31mZeroDivisionError\u001b[0m: division by zero"
     ]
    }
   ],
   "source": [
    "3/0"
   ]
  },
  {
   "cell_type": "markdown",
   "id": "67241b27-8dc6-4a80-a540-cfed0766b2ab",
   "metadata": {},
   "source": [
    "Semantic error is when the python interpreter is able to parse the code and run it but it does not produce the expected results. It is a programmer's error but it didn't do what we wanted it to do."
   ]
  },
  {
   "cell_type": "code",
   "execution_count": 17,
   "id": "1f364445-1bb9-4978-b620-faa19f0238af",
   "metadata": {},
   "outputs": [
    {
     "name": "stdout",
     "output_type": "stream",
     "text": [
      "one half as a percentage is 0.5\n"
     ]
    }
   ],
   "source": [
    "print(\"one half as a percentage is\", 1/2)"
   ]
  },
  {
   "cell_type": "code",
   "execution_count": 19,
   "id": "d90e79d0-0d4c-4e10-bee3-d06e9befebd8",
   "metadata": {},
   "outputs": [
    {
     "name": "stdout",
     "output_type": "stream",
     "text": [
      "one half as a percentage is 50.0\n"
     ]
    }
   ],
   "source": [
    "print(\"one half as a percentage is\", 100*1/2)"
   ]
  }
 ],
 "metadata": {
  "kernelspec": {
   "display_name": "Python 3 (ipykernel)",
   "language": "python",
   "name": "python3"
  },
  "language_info": {
   "codemirror_mode": {
    "name": "ipython",
    "version": 3
   },
   "file_extension": ".py",
   "mimetype": "text/x-python",
   "name": "python",
   "nbconvert_exporter": "python",
   "pygments_lexer": "ipython3",
   "version": "3.11.7"
  }
 },
 "nbformat": 4,
 "nbformat_minor": 5
}
