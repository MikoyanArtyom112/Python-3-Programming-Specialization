{
 "cells": [
  {
   "cell_type": "markdown",
   "id": "aca5851b-b5bb-4f6b-8e61-95522526a879",
   "metadata": {},
   "source": [
    "# Module 2A\n",
    "## Sequences and Iteration\n",
    " *By Miguel Faustine Aguinaldo* | *April 2025*"
   ]
  },
  {
   "cell_type": "markdown",
   "id": "a2c0551a-70e6-4de8-8e13-d78f2b1adba1",
   "metadata": {},
   "source": [
    "---"
   ]
  },
  {
   "cell_type": "markdown",
   "id": "ca26b7f5-6976-4f48-90bc-96feb72769a6",
   "metadata": {
    "jp-MarkdownHeadingCollapsed": true
   },
   "source": [
    "## Introduction: Lists and Strings"
   ]
  },
  {
   "cell_type": "markdown",
   "id": "74f73231-6f46-4685-a809-90a5874924ff",
   "metadata": {},
   "source": [
    "- In the case of strings, they are made up of smaller strings each containing one character.\n",
    "- Types that are comprised of smaller pieces are called collection data types.\n",
    "- Examining operations that can be performed on sequences, such as picking out individual elements or subsequences (called slices) or computing their length is crucial in understanding and working with sequences and strings"
   ]
  },
  {
   "cell_type": "markdown",
   "id": "3b7ce68c-df0b-4426-af84-b1311b6690a7",
   "metadata": {},
   "source": [
    "- A sequence is an ordered collection of items.\n",
    "- A string is an ordered collection of characters.\n",
    "- A list is an ordered collection that can hold any type of data, such as numbers or strings.\n",
    "- A tuple is an immutable type of list."
   ]
  },
  {
   "cell_type": "markdown",
   "id": "072422da-6b90-4f50-b19a-902269e8bdc2",
   "metadata": {
    "jp-MarkdownHeadingCollapsed": true
   },
   "source": [
    "## Strings"
   ]
  },
  {
   "cell_type": "markdown",
   "id": "00f5e336-5504-49b1-9bf6-efc8393d73e1",
   "metadata": {},
   "source": [
    "We have different ways of storing different types of data in Python: strings, lists, and tuples.\n",
    "\n",
    "- Strings are created using double quotes.\n",
    "- They can also be multi-line using triple quotes.\n",
    "- A string length is based on the number of characters it contains including the spaces.\n",
    "- Strings and integers differ from each other even if they may look similar.\n",
    "- We may concatenate strings and integers. We do this by converting one of them into a single data type that we wish to get."
   ]
  },
  {
   "cell_type": "code",
   "execution_count": 24,
   "id": "ff5404b6-cdf1-4153-b7d2-e08731cd9241",
   "metadata": {},
   "outputs": [
    {
     "name": "stdout",
     "output_type": "stream",
     "text": [
      "Hello world\n",
      "Hello World\n",
      "\n",
      "Hello World \n",
      "\n"
     ]
    }
   ],
   "source": [
    "# The following are lines of strings\n",
    "\n",
    "S = 'Hello world'\n",
    "s = \"Hello World\"\n",
    "\n",
    "# A multi-line string\n",
    "m = \"\"\"\n",
    "Hello World \n",
    "\"\"\"\n",
    "\n",
    "print(S)\n",
    "print(s)\n",
    "print(m)"
   ]
  },
  {
   "cell_type": "code",
   "execution_count": 36,
   "id": "94effd55-ceca-48b4-bce6-4787e050444d",
   "metadata": {},
   "outputs": [
    {
     "data": {
      "text/plain": [
       "False"
      ]
     },
     "execution_count": 36,
     "metadata": {},
     "output_type": "execute_result"
    }
   ],
   "source": [
    "# Strings differ from integer values\n",
    "\n",
    "integer = 1\n",
    "string = \"1\"\n",
    "\n",
    "integer == string"
   ]
  },
  {
   "cell_type": "code",
   "execution_count": 46,
   "id": "44860f30-0697-4b40-8542-2953ef0bfd4d",
   "metadata": {},
   "outputs": [
    {
     "data": {
      "text/plain": [
       "'Hello there you 3'"
      ]
     },
     "execution_count": 46,
     "metadata": {},
     "output_type": "execute_result"
    }
   ],
   "source": [
    "# Concatenation using data type conversion\n",
    "\n",
    "first_word = 'Hello '\n",
    "second_word = 'there you '\n",
    "third_word = 3\n",
    "\n",
    "sentence = first_word + second_word + str(third_word)\n",
    "sentence"
   ]
  },
  {
   "cell_type": "code",
   "execution_count": 48,
   "id": "2ec027fc-4f02-4d32-a048-44c69fecc204",
   "metadata": {},
   "outputs": [
    {
     "data": {
      "text/plain": [
       "3"
      ]
     },
     "execution_count": 48,
     "metadata": {},
     "output_type": "execute_result"
    }
   ],
   "source": [
    "a = 1\n",
    "b = '2'\n",
    "\n",
    "a + int(b)"
   ]
  },
  {
   "cell_type": "markdown",
   "id": "d65a168d-bf66-4295-bcf3-5cfa24f350fe",
   "metadata": {
    "jp-MarkdownHeadingCollapsed": true
   },
   "source": [
    "## Lists"
   ]
  },
  {
   "cell_type": "markdown",
   "id": "5eccc7ee-bcb2-4650-8673-24646e9869a9",
   "metadata": {},
   "source": [
    "Lists are sequences of any type of value which may include other values"
   ]
  },
  {
   "cell_type": "code",
   "execution_count": 52,
   "id": "e1c64079-8cb9-48ad-8472-5fe43292568f",
   "metadata": {},
   "outputs": [
    {
     "data": {
      "text/plain": [
       "['string', 1, 5.1, 'three']"
      ]
     },
     "execution_count": 52,
     "metadata": {},
     "output_type": "execute_result"
    }
   ],
   "source": [
    "my_list = [\"string\", 1, 5.1, 'three']\n",
    "my_list"
   ]
  },
  {
   "cell_type": "markdown",
   "id": "64ca5c9e-4c4b-4398-9f3d-dbe0c1e3bbed",
   "metadata": {},
   "source": [
    "Strings have order and length"
   ]
  },
  {
   "cell_type": "code",
   "execution_count": 57,
   "id": "7f419f5e-7e84-42ef-b123-ce179fc97b85",
   "metadata": {},
   "outputs": [
    {
     "data": {
      "text/plain": [
       "4"
      ]
     },
     "execution_count": 57,
     "metadata": {},
     "output_type": "execute_result"
    }
   ],
   "source": [
    "len(my_list)"
   ]
  },
  {
   "cell_type": "markdown",
   "id": "4e343071-6ad3-4c95-a5b0-e54359ff2273",
   "metadata": {},
   "source": [
    "We may also create an empty list"
   ]
  },
  {
   "cell_type": "code",
   "execution_count": 60,
   "id": "9b81e395-7c27-4188-92b1-c92b5a75f313",
   "metadata": {},
   "outputs": [],
   "source": [
    "empty_list = []"
   ]
  },
  {
   "cell_type": "markdown",
   "id": "5f6714a4-aa71-49b7-8df9-0c189a1c9def",
   "metadata": {},
   "source": [
    "Furthermore, the following lines of code below to python are different instances. This is called type difference."
   ]
  },
  {
   "cell_type": "code",
   "execution_count": 65,
   "id": "37a2a9d4-919c-43ec-88b9-977e822e877e",
   "metadata": {},
   "outputs": [
    {
     "data": {
      "text/plain": [
       "False"
      ]
     },
     "execution_count": 65,
     "metadata": {},
     "output_type": "execute_result"
    }
   ],
   "source": [
    "list = [100]\n",
    "i = 100\n",
    "\n",
    "list == i"
   ]
  },
  {
   "cell_type": "markdown",
   "id": "b5039391-75c3-4d0b-9522-09431bc35b40",
   "metadata": {},
   "source": [
    "We may also concatenate lists."
   ]
  },
  {
   "cell_type": "code",
   "execution_count": 87,
   "id": "d58388f3-3535-48ea-9a29-f8ae0f88d100",
   "metadata": {},
   "outputs": [
    {
     "name": "stdout",
     "output_type": "stream",
     "text": [
      "['string', 1, 5.1, 'three', 100] , 5\n"
     ]
    }
   ],
   "source": [
    "new_list = my_list + list\n",
    "print(new_list,\",\", len(new_list))"
   ]
  },
  {
   "cell_type": "markdown",
   "id": "4b35d566-f2b4-4df9-9fd1-2a8dd8d5979f",
   "metadata": {
    "jp-MarkdownHeadingCollapsed": true
   },
   "source": [
    "## Tuples"
   ]
  },
  {
   "cell_type": "markdown",
   "id": "3fb21730-e6f9-4d8b-b720-f939d524e3db",
   "metadata": {},
   "source": [
    "Tuples, as mentioned, are an immutable type of list. This means they cannot be changed."
   ]
  },
  {
   "cell_type": "code",
   "execution_count": 91,
   "id": "85d89e05-4a29-43a6-b8c5-5e3dc80d637c",
   "metadata": {},
   "outputs": [],
   "source": [
    "my_tuple = (\"one\", 2, \"three\")"
   ]
  },
  {
   "cell_type": "code",
   "execution_count": 93,
   "id": "2ee4751a-2212-4da4-9b0f-7833c62e0257",
   "metadata": {},
   "outputs": [
    {
     "data": {
      "text/plain": [
       "tuple"
      ]
     },
     "execution_count": 93,
     "metadata": {},
     "output_type": "execute_result"
    }
   ],
   "source": [
    "type(my_tuple)"
   ]
  },
  {
   "cell_type": "markdown",
   "id": "6b43b674-51be-45b7-a6d6-c40ddf86717c",
   "metadata": {},
   "source": [
    "When writing single item tuples, it is important to include an additional comma next to the single item."
   ]
  },
  {
   "cell_type": "code",
   "execution_count": 96,
   "id": "616182c2-29fb-4f83-b9a1-060096fe6071",
   "metadata": {},
   "outputs": [],
   "source": [
    "single_item_tuple = (100,)"
   ]
  },
  {
   "cell_type": "code",
   "execution_count": 102,
   "id": "86e3f938-6666-48cb-a317-2b9728cfceaa",
   "metadata": {},
   "outputs": [
    {
     "data": {
      "text/plain": [
       "False"
      ]
     },
     "execution_count": 102,
     "metadata": {},
     "output_type": "execute_result"
    }
   ],
   "source": [
    "test_tuple = (100)\n",
    "single_item_tuple == test_tuple"
   ]
  },
  {
   "cell_type": "markdown",
   "id": "fbc86615-cd95-4fc2-bf07-c5f653455708",
   "metadata": {},
   "source": [
    "It is also possible to make an empty tuple with just parentheses."
   ]
  },
  {
   "cell_type": "code",
   "execution_count": 105,
   "id": "b5b2f726-0bad-4844-b63b-c68c13a89895",
   "metadata": {},
   "outputs": [],
   "source": [
    "emptyTuple = ()"
   ]
  },
  {
   "cell_type": "markdown",
   "id": "1204e8c3-c028-4911-85d8-e5e4939a970c",
   "metadata": {
    "jp-MarkdownHeadingCollapsed": true
   },
   "source": [
    "## The Index Operator"
   ]
  },
  {
   "cell_type": "markdown",
   "id": "230788f2-cd45-4624-8ce8-cd5fafb5c7ba",
   "metadata": {},
   "source": [
    "Indexing is quite simple and is as follows:"
   ]
  },
  {
   "cell_type": "code",
   "execution_count": 109,
   "id": "2f2888f7-e4f8-4701-9aec-12ee8f42fce6",
   "metadata": {},
   "outputs": [
    {
     "data": {
      "text/plain": [
       "'P'"
      ]
     },
     "execution_count": 109,
     "metadata": {},
     "output_type": "execute_result"
    }
   ],
   "source": [
    "x = 'Python'\n",
    "\n",
    "x[0]"
   ]
  },
  {
   "cell_type": "markdown",
   "id": "ef52e832-c260-4c26-bb32-de6d9225234d",
   "metadata": {},
   "source": [
    "Indexing allows the extraction of a zero-based position inside strings, lists, or tuples. \n",
    "- We can make use of the len() function to determine the location of indexes.\n",
    "- Negative indexing allows to access elements from the end of the sequence."
   ]
  },
  {
   "cell_type": "code",
   "execution_count": 113,
   "id": "f3eb1f86-462f-4636-b53f-c8c7f72aced3",
   "metadata": {},
   "outputs": [
    {
     "data": {
      "text/plain": [
       "2"
      ]
     },
     "execution_count": 113,
     "metadata": {},
     "output_type": "execute_result"
    }
   ],
   "source": [
    "my_list = [\"one\", 2, \"three\"]\n",
    "my_list[1] # second element in the list"
   ]
  },
  {
   "cell_type": "code",
   "execution_count": 115,
   "id": "74241589-74b1-4d47-ad88-460829041cdd",
   "metadata": {},
   "outputs": [
    {
     "data": {
      "text/plain": [
       "'three'"
      ]
     },
     "execution_count": 115,
     "metadata": {},
     "output_type": "execute_result"
    }
   ],
   "source": [
    "my_list[-1]"
   ]
  },
  {
   "cell_type": "code",
   "execution_count": 117,
   "id": "a6f88fea-3167-4e9e-a085-1659ac67b546",
   "metadata": {},
   "outputs": [
    {
     "data": {
      "text/plain": [
       "2"
      ]
     },
     "execution_count": 117,
     "metadata": {},
     "output_type": "execute_result"
    }
   ],
   "source": [
    "my_list[-2]"
   ]
  },
  {
   "cell_type": "code",
   "execution_count": 119,
   "id": "bc3deaed-7cc1-4a98-8edc-ebee57341d3a",
   "metadata": {},
   "outputs": [
    {
     "name": "stdout",
     "output_type": "stream",
     "text": [
      "to\n"
     ]
    }
   ],
   "source": [
    "s = \"python rocks\"\n",
    "print(s[2] + s[-4])"
   ]
  },
  {
   "cell_type": "markdown",
   "id": "6774c263-2c48-4da1-b448-f36a92ff3e1b",
   "metadata": {},
   "source": [
    "Real world questions often do not take into account zero-based indexing nature of Python. You maybe asked to find the 23rd value of a given list, but in reality that'll be the 22nd indexed based position of an element in that list."
   ]
  },
  {
   "cell_type": "markdown",
   "id": "0966b78b-16b3-448c-a229-eb027bbdf1a9",
   "metadata": {},
   "source": [
    "**Example**"
   ]
  },
  {
   "cell_type": "markdown",
   "id": "d053cdfa-02a6-460a-9a34-c05b1d513e21",
   "metadata": {},
   "source": [
    "Assign the value of the last chacter of lst to the variable output. Do this so that the length of lst doesn’t matter."
   ]
  },
  {
   "cell_type": "code",
   "execution_count": 129,
   "id": "cca075e8-287c-4032-8451-234038e563a0",
   "metadata": {},
   "outputs": [
    {
     "data": {
      "text/plain": [
       "'leaders and the best'"
      ]
     },
     "execution_count": 129,
     "metadata": {},
     "output_type": "execute_result"
    }
   ],
   "source": [
    "l = (\"hi\", \"goodbye\", \"python\", \"106\", \"506\", 91, ['all', 'Paul', 'Jackie', \"UMSI\", 1, \"Stephen\", 4.5], 109, \"chair\", \"pizza\", \"wolverine\", 2017, 3.92, 1817, \"account\", \"readings\", \"papers\", 12, \"facebook\", \"twitter\", 193.2, \"snapchat\", \"leaders and the best\", \"social\", \"1986\", 9, 29, \"holiday\", [\"women\", \"olympics\", \"gold\", \"rio\", 21, \"2016\", \"men\"], \"26trombones\")\n",
    "checking = l[22]\n",
    "checking"
   ]
  },
  {
   "cell_type": "markdown",
   "id": "c38f676e-0ec5-4ea8-8075-dddb110538ef",
   "metadata": {
    "jp-MarkdownHeadingCollapsed": true
   },
   "source": [
    "## Length"
   ]
  },
  {
   "cell_type": "markdown",
   "id": "94249a3b-dfc9-4ed7-8952-9d3c0c9e62a6",
   "metadata": {},
   "source": [
    "A length of strings can be accessed using the len() function.\n",
    "- To access the last character you may use: x[len(variable) - 1] or x[-1].\n",
    "- The middle character can be located by using truncated division of length by 2."
   ]
  },
  {
   "cell_type": "code",
   "execution_count": 143,
   "id": "dfc8a3ef-bdd0-4174-a8a5-b0b2b8a5e659",
   "metadata": {},
   "outputs": [],
   "source": [
    "fruit = 'banana'"
   ]
  },
  {
   "cell_type": "code",
   "execution_count": 145,
   "id": "5d1a21e6-5558-4659-8c55-85b2a14d26d7",
   "metadata": {},
   "outputs": [
    {
     "data": {
      "text/plain": [
       "'a'"
      ]
     },
     "execution_count": 145,
     "metadata": {},
     "output_type": "execute_result"
    }
   ],
   "source": [
    "fruit[len(fruit)-1]"
   ]
  },
  {
   "cell_type": "code",
   "execution_count": 147,
   "id": "418aae93-e69c-4eed-a698-7bc0b1f81a62",
   "metadata": {},
   "outputs": [
    {
     "data": {
      "text/plain": [
       "'a'"
      ]
     },
     "execution_count": 147,
     "metadata": {},
     "output_type": "execute_result"
    }
   ],
   "source": [
    "fruit[-1]"
   ]
  },
  {
   "cell_type": "code",
   "execution_count": 151,
   "id": "2dc7c28f-1252-4b82-b4ce-98e6c3f7a273",
   "metadata": {},
   "outputs": [
    {
     "data": {
      "text/plain": [
       "'a'"
      ]
     },
     "execution_count": 151,
     "metadata": {},
     "output_type": "execute_result"
    }
   ],
   "source": [
    "midchar = fruit[len(fruit)//2]\n",
    "midchar"
   ]
  },
  {
   "cell_type": "markdown",
   "id": "75d124cb-fcab-4ccc-9233-0ef08f0838cc",
   "metadata": {
    "jp-MarkdownHeadingCollapsed": true
   },
   "source": [
    "## The Slice Operator"
   ]
  },
  {
   "cell_type": "markdown",
   "id": "c863bd4f-9e26-481f-b5d6-b39905f66f4a",
   "metadata": {},
   "source": [
    "Slicing is a method to obtain a subset of items from a sequence, such as strings or lists.\n",
    "- Indexing retrieves a single item, while slicing obtains a subset of items.\n",
    "- The syntax is as follows sequence[start:end].\n",
    "- Note that in slicing syntax, only the 'start' index is zero-based, while the 'end' index is treated as a positional value — not included in the result — and aligns with the way we naturally count (i.e., starting from 1)."
   ]
  },
  {
   "cell_type": "code",
   "execution_count": 156,
   "id": "4ff6d6d2-8106-4c05-84f3-fb1cedacb55d",
   "metadata": {},
   "outputs": [
    {
     "data": {
      "text/plain": [
       "[1, 2, 3, 4, 5]"
      ]
     },
     "execution_count": 156,
     "metadata": {},
     "output_type": "execute_result"
    }
   ],
   "source": [
    "numbers = [1, 2, 3, 4, 5, 6, 7, 8, 9, 10]\n",
    "numbers[0:5]"
   ]
  },
  {
   "cell_type": "code",
   "execution_count": 160,
   "id": "b262241e-8cf7-4b8f-afc8-6855d50b15e9",
   "metadata": {},
   "outputs": [
    {
     "data": {
      "text/plain": [
       "[5, 6, 7, 8, 9, 10]"
      ]
     },
     "execution_count": 160,
     "metadata": {},
     "output_type": "execute_result"
    }
   ],
   "source": [
    "numbers[4:10]"
   ]
  },
  {
   "cell_type": "code",
   "execution_count": 162,
   "id": "e91d260d-d155-4a9d-bd37-4442932cdda6",
   "metadata": {},
   "outputs": [
    {
     "data": {
      "text/plain": [
       "[1, 2, 3, 4, 5, 6, 7, 8, 9, 10]"
      ]
     },
     "execution_count": 162,
     "metadata": {},
     "output_type": "execute_result"
    }
   ],
   "source": [
    "numbers[0:]"
   ]
  },
  {
   "cell_type": "code",
   "execution_count": 164,
   "id": "d7027737-029e-475c-b509-bc6e57a9547c",
   "metadata": {},
   "outputs": [
    {
     "data": {
      "text/plain": [
       "[1, 2, 3, 4, 5, 6, 7, 8, 9, 10]"
      ]
     },
     "execution_count": 164,
     "metadata": {},
     "output_type": "execute_result"
    }
   ],
   "source": [
    "numbers[:10]"
   ]
  },
  {
   "cell_type": "code",
   "execution_count": 166,
   "id": "ccaa385a-110b-4dc9-b64c-40f7225d029e",
   "metadata": {},
   "outputs": [
    {
     "data": {
      "text/plain": [
       "[1, 2, 3, 4, 5, 6, 7, 8, 9, 10]"
      ]
     },
     "execution_count": 166,
     "metadata": {},
     "output_type": "execute_result"
    }
   ],
   "source": [
    "numbers[:]"
   ]
  },
  {
   "cell_type": "code",
   "execution_count": 181,
   "id": "0447764d-2ed6-4864-8413-00b32620d03c",
   "metadata": {},
   "outputs": [
    {
     "name": "stdout",
     "output_type": "stream",
     "text": [
      "3\n"
     ]
    }
   ],
   "source": [
    "L = [0.34, '6', 'SI106', 'Python', -2]\n",
    "print(len(L[1:-1]))"
   ]
  },
  {
   "cell_type": "markdown",
   "id": "4f2ea0cd-da66-4e30-92d5-ce9a15c7a7a5",
   "metadata": {},
   "source": [
    "In Python slicing, the start index is zero-based and included, while the end index is also zero-based but excluded — making it feel like a natural count since slicing stops just before it."
   ]
  },
  {
   "cell_type": "markdown",
   "id": "75ae2003-d378-4dd7-b8bf-fc5e5ca8f3c4",
   "metadata": {},
   "source": [
    "Slices with tuples"
   ]
  },
  {
   "cell_type": "code",
   "execution_count": 185,
   "id": "5e806a6f-5e58-420d-a5a2-204541cb6e9a",
   "metadata": {},
   "outputs": [
    {
     "data": {
      "text/plain": [
       "1967"
      ]
     },
     "execution_count": 185,
     "metadata": {},
     "output_type": "execute_result"
    }
   ],
   "source": [
    "julia = (\"Julia\", \"Roberts\", 1967, \"Duplicity\", 2009, \"Actress\", \"Atlanta, Georgia\")\n",
    "\n",
    "julia[2]"
   ]
  },
  {
   "cell_type": "code",
   "execution_count": 187,
   "id": "7f1d9b96-2237-4d92-9a4c-1b978dd62cf7",
   "metadata": {},
   "outputs": [
    {
     "data": {
      "text/plain": [
       "(1967, 'Duplicity', 2009, 'Actress')"
      ]
     },
     "execution_count": 187,
     "metadata": {},
     "output_type": "execute_result"
    }
   ],
   "source": [
    "julia[2:6]"
   ]
  },
  {
   "cell_type": "code",
   "execution_count": 189,
   "id": "48164059-7af9-442d-a3d2-1a47d1f89d4f",
   "metadata": {},
   "outputs": [],
   "source": [
    "julia = julia[:3] + (\"Eat Pray Love\", 2010) + julia[5:]"
   ]
  },
  {
   "cell_type": "code",
   "execution_count": 191,
   "id": "1798cba8-3837-4c6d-af7a-65d81268a5fa",
   "metadata": {},
   "outputs": [
    {
     "data": {
      "text/plain": [
       "('Julia',\n",
       " 'Roberts',\n",
       " 1967,\n",
       " 'Eat Pray Love',\n",
       " 2010,\n",
       " 'Actress',\n",
       " 'Atlanta, Georgia')"
      ]
     },
     "execution_count": 191,
     "metadata": {},
     "output_type": "execute_result"
    }
   ],
   "source": [
    "julia"
   ]
  },
  {
   "cell_type": "markdown",
   "id": "8fc48b48-63d3-451f-965d-b9aa2f2a32e0",
   "metadata": {
    "jp-MarkdownHeadingCollapsed": true
   },
   "source": [
    "## Concatenation and Repetition"
   ]
  },
  {
   "cell_type": "markdown",
   "id": "f69d8c2e-de72-4b82-815e-dc650bbb40c1",
   "metadata": {},
   "source": [
    "We may also create new sequences in Python using concatenation and repetition. Recall:\n",
    "- Concatenation combines two sequences to form a new one.\n",
    "- Repetition involves repeating a sequence multiple times using the multiplication operator.\n",
    "- Order is also important; parenthesis can change the outcome of both!"
   ]
  },
  {
   "cell_type": "code",
   "execution_count": 195,
   "id": "6c69df1a-e042-43f9-8db5-a38dd8ebd0b5",
   "metadata": {},
   "outputs": [
    {
     "data": {
      "text/plain": [
       "[1, 2, 3, 4]"
      ]
     },
     "execution_count": 195,
     "metadata": {},
     "output_type": "execute_result"
    }
   ],
   "source": [
    "[1,2] + [3,4]"
   ]
  },
  {
   "cell_type": "code",
   "execution_count": 197,
   "id": "adf63091-6757-4849-b0d5-1aca265b34ba",
   "metadata": {},
   "outputs": [],
   "source": [
    "fruit = ['apple', 'orange', 'banana', 'cherry']"
   ]
  },
  {
   "cell_type": "code",
   "execution_count": 199,
   "id": "0ca4ed12-5117-48d5-8590-a030ed5f1296",
   "metadata": {},
   "outputs": [
    {
     "data": {
      "text/plain": [
       "['apple', 'orange', 'banana', 'cherry', 1, 2, 3, 4]"
      ]
     },
     "execution_count": 199,
     "metadata": {},
     "output_type": "execute_result"
    }
   ],
   "source": [
    "fruit + [1, 2, 3, 4]"
   ]
  },
  {
   "cell_type": "code",
   "execution_count": 201,
   "id": "2f5ea966-e83f-4f88-a8e1-c8d5f0dc673d",
   "metadata": {},
   "outputs": [
    {
     "data": {
      "text/plain": [
       "['apple', 'orange', 'banana', 'cherry', 1, 2, 3, 4]"
      ]
     },
     "execution_count": 201,
     "metadata": {},
     "output_type": "execute_result"
    }
   ],
   "source": [
    "fruit + [1,2] + [3,4]"
   ]
  },
  {
   "cell_type": "code",
   "execution_count": 203,
   "id": "bad609da-88e9-40a5-8f4f-1d49970d4e8c",
   "metadata": {},
   "outputs": [
    {
     "data": {
      "text/plain": [
       "[1, 1, 1, 1]"
      ]
     },
     "execution_count": 203,
     "metadata": {},
     "output_type": "execute_result"
    }
   ],
   "source": [
    "[1] * 4"
   ]
  },
  {
   "cell_type": "code",
   "execution_count": 205,
   "id": "9f75095e-6d76-4d9d-89ca-95f45deac1e5",
   "metadata": {},
   "outputs": [
    {
     "data": {
      "text/plain": [
       "['apple', 'orange', 'banana', 'cherry', 1, 1, 1, 1]"
      ]
     },
     "execution_count": 205,
     "metadata": {},
     "output_type": "execute_result"
    }
   ],
   "source": [
    "fruit + [1] * 4"
   ]
  },
  {
   "cell_type": "code",
   "execution_count": 209,
   "id": "44001daf-64bc-4089-bd3d-d50c2a52b3da",
   "metadata": {},
   "outputs": [
    {
     "data": {
      "text/plain": [
       "['apple',\n",
       " 'orange',\n",
       " 'banana',\n",
       " 'cherry',\n",
       " 1,\n",
       " 'apple',\n",
       " 'orange',\n",
       " 'banana',\n",
       " 'cherry',\n",
       " 1,\n",
       " 'apple',\n",
       " 'orange',\n",
       " 'banana',\n",
       " 'cherry',\n",
       " 1,\n",
       " 'apple',\n",
       " 'orange',\n",
       " 'banana',\n",
       " 'cherry',\n",
       " 1]"
      ]
     },
     "execution_count": 209,
     "metadata": {},
     "output_type": "execute_result"
    }
   ],
   "source": [
    "(fruit + [1]) * 4 # notice how order of operations changes the output"
   ]
  },
  {
   "cell_type": "markdown",
   "id": "7f9b70d8-913b-4707-a9ed-171dc4bb08af",
   "metadata": {
    "jp-MarkdownHeadingCollapsed": true
   },
   "source": [
    "## Count and Index"
   ]
  },
  {
   "cell_type": "markdown",
   "id": "92072b48-dac5-4ed8-aad6-8360a4d7ca99",
   "metadata": {},
   "source": [
    "Count and Index are a two useful methods for sequences in Python.\n",
    "- Count method is used to determine how many times a specific character or substring occurs in a string or list.\n",
    "- Index methods finds the first occurrence of a specified item in a sequence."
   ]
  },
  {
   "cell_type": "code",
   "execution_count": 215,
   "id": "02c5f1fb-daba-4088-b8da-f1274b0686b3",
   "metadata": {},
   "outputs": [
    {
     "data": {
      "text/plain": [
       "(11, 1)"
      ]
     },
     "execution_count": 215,
     "metadata": {},
     "output_type": "execute_result"
    }
   ],
   "source": [
    "a = 'Lorem ipsum is a dummy or placeholder text commonly used in graphic design, publishing, testing, and web development.'\n",
    "\n",
    "a.count('e'), a.count('ip')"
   ]
  },
  {
   "cell_type": "code",
   "execution_count": 219,
   "id": "1287d8af-03ac-4ad4-8fd2-e55e76d20910",
   "metadata": {},
   "outputs": [],
   "source": [
    "# Now on lists\n",
    "z = ['atoms', 4, '4', 'electron', 'atoms', 'electrons', 4, '4']"
   ]
  },
  {
   "cell_type": "code",
   "execution_count": 221,
   "id": "3b15ee57-3757-478c-80f5-ba22667163ea",
   "metadata": {},
   "outputs": [
    {
     "data": {
      "text/plain": [
       "2"
      ]
     },
     "execution_count": 221,
     "metadata": {},
     "output_type": "execute_result"
    }
   ],
   "source": [
    "z.count(4)"
   ]
  },
  {
   "cell_type": "code",
   "execution_count": 225,
   "id": "b507d381-011f-463b-8f8f-0f129af8294b",
   "metadata": {},
   "outputs": [
    {
     "data": {
      "text/plain": [
       "2"
      ]
     },
     "execution_count": 225,
     "metadata": {},
     "output_type": "execute_result"
    }
   ],
   "source": [
    "z.count('4')"
   ]
  },
  {
   "cell_type": "code",
   "execution_count": 248,
   "id": "74e0c400-0507-4fbe-adf8-13e5e003934b",
   "metadata": {},
   "outputs": [
    {
     "data": {
      "text/plain": [
       "1"
      ]
     },
     "execution_count": 248,
     "metadata": {},
     "output_type": "execute_result"
    }
   ],
   "source": [
    "z.count('a') # the count is based on the elements and not the characters of the elements."
   ]
  },
  {
   "cell_type": "code",
   "execution_count": 231,
   "id": "903bc90f-b1ce-4157-870d-88899b062a47",
   "metadata": {},
   "outputs": [
    {
     "data": {
      "text/plain": [
       "2"
      ]
     },
     "execution_count": 231,
     "metadata": {},
     "output_type": "execute_result"
    }
   ],
   "source": [
    "z.count('atoms')"
   ]
  },
  {
   "cell_type": "markdown",
   "id": "9c097d92-7bdf-4695-8a25-a585e783ae72",
   "metadata": {},
   "source": [
    "list.count(x) → counts full element matches, not partial content."
   ]
  },
  {
   "cell_type": "markdown",
   "id": "8badb71d-83f0-42b9-b3c6-95598b3067cc",
   "metadata": {},
   "source": [
    "In the variable ty below, there is a difference between \"we\" and \"We\""
   ]
  },
  {
   "cell_type": "code",
   "execution_count": 251,
   "id": "8c20e967-c47b-4f30-a96e-b3d6f6a3fd22",
   "metadata": {},
   "outputs": [],
   "source": [
    "qu = \"wow, welcome week! Were you wanting to go?\"\n",
    "ty = qu.count(\"we\")"
   ]
  },
  {
   "cell_type": "code",
   "execution_count": 253,
   "id": "32103336-5117-4a84-afba-87c209fa38e6",
   "metadata": {},
   "outputs": [
    {
     "data": {
      "text/plain": [
       "2"
      ]
     },
     "execution_count": 253,
     "metadata": {},
     "output_type": "execute_result"
    }
   ],
   "source": [
    "ty"
   ]
  },
  {
   "cell_type": "code",
   "execution_count": 234,
   "id": "d55d9628-8729-4397-b209-d0ae6d33d9fe",
   "metadata": {},
   "outputs": [],
   "source": [
    "a = 'Lorem ipsum is a dummy or placeholder text commonly used in graphic design, publishing, testing, and web development.'"
   ]
  },
  {
   "cell_type": "code",
   "execution_count": 236,
   "id": "a976195f-dfb5-4834-8131-bb23377604e2",
   "metadata": {},
   "outputs": [
    {
     "data": {
      "text/plain": [
       "17"
      ]
     },
     "execution_count": 236,
     "metadata": {},
     "output_type": "execute_result"
    }
   ],
   "source": [
    "a.index('d')"
   ]
  },
  {
   "cell_type": "code",
   "execution_count": 238,
   "id": "0ef18c6e-64b1-4cc9-9bca-2cdd0d1b8b82",
   "metadata": {},
   "outputs": [],
   "source": [
    "z = ['cat', 'apple', 'banana', 'a', 'ant']"
   ]
  },
  {
   "cell_type": "code",
   "execution_count": 240,
   "id": "a10db79e-9fa7-408a-a8c8-64d67bf9572d",
   "metadata": {},
   "outputs": [
    {
     "data": {
      "text/plain": [
       "0"
      ]
     },
     "execution_count": 240,
     "metadata": {},
     "output_type": "execute_result"
    }
   ],
   "source": [
    "z.index('cat')"
   ]
  },
  {
   "cell_type": "code",
   "execution_count": 242,
   "id": "bc84b005-ff7d-4509-a019-ea0fa8f2573b",
   "metadata": {},
   "outputs": [
    {
     "data": {
      "text/plain": [
       "3"
      ]
     },
     "execution_count": 242,
     "metadata": {},
     "output_type": "execute_result"
    }
   ],
   "source": [
    "z.index('a')"
   ]
  },
  {
   "cell_type": "markdown",
   "id": "d5c581a0-db9c-497b-a372-319f85b67a85",
   "metadata": {},
   "source": [
    "index gives the zero-based index of the first time the given value appears in the list."
   ]
  },
  {
   "cell_type": "markdown",
   "id": "bc119857-b127-4143-8d85-e5aa5eaec797",
   "metadata": {
    "jp-MarkdownHeadingCollapsed": true
   },
   "source": [
    "## Split and Join"
   ]
  },
  {
   "cell_type": "markdown",
   "id": "dcc4f6ec-4737-4dcb-a4c0-c289d41fe8ee",
   "metadata": {},
   "source": [
    "Another pair of useful methods in Python are: split and join.\n",
    "- Split takes a string and divides it into a list of substrings.\n",
    "- Join is a method that takes a list of strings and concatenates them into a single string."
   ]
  },
  {
   "cell_type": "code",
   "execution_count": 259,
   "id": "724c3ed7-b1ec-400d-8c9f-928b47d14d5c",
   "metadata": {},
   "outputs": [
    {
     "data": {
      "text/plain": [
       "['RUBY',\n",
       " 'CHAN!',\n",
       " 'HAI',\n",
       " 'NANI',\n",
       " 'GA',\n",
       " 'SUKI...CHOCO',\n",
       " 'MINTO',\n",
       " 'YORI',\n",
       " 'MO',\n",
       " 'ANATA']"
      ]
     },
     "execution_count": 259,
     "metadata": {},
     "output_type": "execute_result"
    }
   ],
   "source": [
    "a = 'RUBY CHAN! HAI NANI GA SUKI...CHOCO MINTO YORI MO ANATA'\n",
    "a.split()"
   ]
  },
  {
   "cell_type": "code",
   "execution_count": 277,
   "id": "99094095-c00d-4049-ac8f-f0037389229c",
   "metadata": {},
   "outputs": [],
   "source": [
    "x = a.split()"
   ]
  },
  {
   "cell_type": "code",
   "execution_count": 281,
   "id": "d8cbb8c8-9168-4dce-8651-20a5f1f95e38",
   "metadata": {},
   "outputs": [],
   "source": [
    "words = ['leaders', 'and', 'best']"
   ]
  },
  {
   "cell_type": "code",
   "execution_count": 303,
   "id": "c160f52a-8790-4959-9c77-90aeeeeb71af",
   "metadata": {},
   "outputs": [
    {
     "data": {
      "text/plain": [
       "'leaders and best'"
      ]
     },
     "execution_count": 303,
     "metadata": {},
     "output_type": "execute_result"
    }
   ],
   "source": [
    "\" \".join(words)"
   ]
  }
 ],
 "metadata": {
  "kernelspec": {
   "display_name": "Python 3 (ipykernel)",
   "language": "python",
   "name": "python3"
  },
  "language_info": {
   "codemirror_mode": {
    "name": "ipython",
    "version": 3
   },
   "file_extension": ".py",
   "mimetype": "text/x-python",
   "name": "python",
   "nbconvert_exporter": "python",
   "pygments_lexer": "ipython3",
   "version": "3.11.7"
  }
 },
 "nbformat": 4,
 "nbformat_minor": 5
}
