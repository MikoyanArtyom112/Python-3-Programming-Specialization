{
 "cells": [
  {
   "cell_type": "markdown",
   "id": "b74374b0-84b7-4a52-9feb-466be101d8ac",
   "metadata": {},
   "source": [
    "# Module 2C\n",
    "## Sequences and Iteration\n",
    " *By Miguel Faustine Aguinaldo* | *April 2025*"
   ]
  },
  {
   "cell_type": "code",
   "execution_count": 3,
   "id": "3a3a541a-46bf-40b5-b95a-8841389e5532",
   "metadata": {},
   "outputs": [
    {
     "ename": "SyntaxError",
     "evalue": "incomplete input (2492188802.py, line 5)",
     "output_type": "error",
     "traceback": [
      "\u001b[1;36m  Cell \u001b[1;32mIn[3], line 5\u001b[1;36m\u001b[0m\n\u001b[1;33m    avg_temp += float(c.split(\",\")) / len(float(c.split(\",\"))\u001b[0m\n\u001b[1;37m                                                             ^\u001b[0m\n\u001b[1;31mSyntaxError\u001b[0m\u001b[1;31m:\u001b[0m incomplete input\n"
     ]
    }
   ],
   "source": [
    "week_temps_f = \"75.1,77.7,83.2,82.5,81.0,79.5,85.7\"\n",
    "avg_temp = 0\n",
    "\n",
    "for c in week_temps_f:\n",
    "    avg_temp += float(c.split(\",\")) / len(float(c.split(\",\"))"
   ]
  },
  {
   "cell_type": "code",
   "execution_count": null,
   "id": "d42661ea-8564-4294-b458-de1ab6459e01",
   "metadata": {},
   "outputs": [],
   "source": []
  }
 ],
 "metadata": {
  "kernelspec": {
   "display_name": "Python 3 (ipykernel)",
   "language": "python",
   "name": "python3"
  },
  "language_info": {
   "codemirror_mode": {
    "name": "ipython",
    "version": 3
   },
   "file_extension": ".py",
   "mimetype": "text/x-python",
   "name": "python",
   "nbconvert_exporter": "python",
   "pygments_lexer": "ipython3",
   "version": "3.11.7"
  }
 },
 "nbformat": 4,
 "nbformat_minor": 5
}
